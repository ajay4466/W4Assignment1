{
 "cells": [
  {
   "cell_type": "code",
   "execution_count": 62,
   "id": "2dab047f",
   "metadata": {},
   "outputs": [],
   "source": [
    "class vehicle:\n",
    "    def __init__(self,name_of_vehicle , max_speed , average_of_vehicle):\n",
    "        self.name_of_vehicle = name_of_vehicle\n",
    "        self.max_speed = max_speed\n",
    "        self.average_of_vehicle = average_of_vehicle\n"
   ]
  },
  {
   "cell_type": "code",
   "execution_count": 80,
   "id": "77950ff7",
   "metadata": {},
   "outputs": [
    {
     "name": "stdout",
     "output_type": "stream",
     "text": [
      "The tata has a seating capacity of 2\n"
     ]
    }
   ],
   "source": [
    "class Car(vehicle):\n",
    "    def seating_capacity(self,capacity):\n",
    "        return f\"The {self.name_of_vehicle} has a seating capacity of {capacity}\"\n",
    "car1 = Car(\"tata\",300,8)\n",
    "print(car1.seating_capacity(2))"
   ]
  },
  {
   "cell_type": "code",
   "execution_count": 81,
   "id": "059581eb",
   "metadata": {},
   "outputs": [],
   "source": [
    "##multiple inheritance is like a child class gets methods from more than 2 parent classes"
   ]
  },
  {
   "cell_type": "code",
   "execution_count": 123,
   "id": "5817ae67",
   "metadata": {},
   "outputs": [
    {
     "data": {
      "text/plain": [
       "'this is the msg from class A'"
      ]
     },
     "execution_count": 123,
     "metadata": {},
     "output_type": "execute_result"
    }
   ],
   "source": [
    "class A:\n",
    "    def methA(self):\n",
    "        return\"this is the msg from class A\"\n",
    "class B:\n",
    "    def methB(self):\n",
    "        return\"This is the msg from class B\"\n",
    "class C(A,B):\n",
    "    def methC(self):\n",
    "        pass\n",
    "x = C()\n",
    "x.methA()\n"
   ]
  },
  {
   "cell_type": "code",
   "execution_count": 115,
   "id": "6c36a12f",
   "metadata": {},
   "outputs": [
    {
     "data": {
      "text/plain": [
       "'This is the msg from class B'"
      ]
     },
     "execution_count": 115,
     "metadata": {},
     "output_type": "execute_result"
    }
   ],
   "source": [
    "x = C()\n",
    "x.methB()"
   ]
  },
  {
   "cell_type": "code",
   "execution_count": 124,
   "id": "428633c8",
   "metadata": {},
   "outputs": [],
   "source": [
    "## get method and set method provide a way to access and modify the attributes of an object in a controlled manner"
   ]
  },
  {
   "cell_type": "code",
   "execution_count": 176,
   "id": "7e9fc861",
   "metadata": {},
   "outputs": [],
   "source": [
    "class vehicle:\n",
    "    def __init__(self,Vspeed,Vaverage,Vmodel):\n",
    "        self.__Vspeed = Vspeed\n",
    "        self.__Vaverage = Vaverage\n",
    "        self.__Vmodel = Vmodel\n",
    "    def set_Vspeed(self,Vspeed):\n",
    "        self.__Vspeed = 0 if Vspeed < 0 else Vspeed \n",
    "        \n",
    "    def get_Vspeed(self):\n",
    "        return self.__Vspeed"
   ]
  },
  {
   "cell_type": "code",
   "execution_count": 177,
   "id": "6c7e0752",
   "metadata": {},
   "outputs": [],
   "source": [
    "c = vehicle(12,10,\"kwid\")"
   ]
  },
  {
   "cell_type": "code",
   "execution_count": 178,
   "id": "2ade0e6f",
   "metadata": {},
   "outputs": [
    {
     "data": {
      "text/plain": [
       "12"
      ]
     },
     "execution_count": 178,
     "metadata": {},
     "output_type": "execute_result"
    }
   ],
   "source": [
    "c._vehicle__Vspeed  ##we could'nt access the Vspeed directly so we use get method and set method to give access to the user"
   ]
  },
  {
   "cell_type": "code",
   "execution_count": 182,
   "id": "2d4ba2f3",
   "metadata": {},
   "outputs": [],
   "source": [
    "c.set_Vspeed(100)"
   ]
  },
  {
   "cell_type": "code",
   "execution_count": 183,
   "id": "d29f9a1a",
   "metadata": {},
   "outputs": [
    {
     "data": {
      "text/plain": [
       "100"
      ]
     },
     "execution_count": 183,
     "metadata": {},
     "output_type": "execute_result"
    }
   ],
   "source": [
    "c.get_Vspeed()"
   ]
  },
  {
   "cell_type": "code",
   "execution_count": 186,
   "id": "11fd3e3f",
   "metadata": {},
   "outputs": [],
   "source": [
    "c.set_Vspeed(-9)"
   ]
  },
  {
   "cell_type": "code",
   "execution_count": 187,
   "id": "c52b9192",
   "metadata": {},
   "outputs": [
    {
     "data": {
      "text/plain": [
       "0"
      ]
     },
     "execution_count": 187,
     "metadata": {},
     "output_type": "execute_result"
    }
   ],
   "source": [
    "c.get_Vspeed()"
   ]
  },
  {
   "cell_type": "code",
   "execution_count": 188,
   "id": "755bb304",
   "metadata": {},
   "outputs": [],
   "source": [
    "##method overriding is like explicitly changing the value of a variable of superclass"
   ]
  },
  {
   "cell_type": "code",
   "execution_count": 204,
   "id": "ec5f8799",
   "metadata": {},
   "outputs": [],
   "source": [
    "class shape:\n",
    "    def area__init__(self , length , breadth , height):\n",
    "        self.length = length\n",
    "        self.breadth = breadth\n",
    "        self.height = height\n",
    "        pass\n",
    "class rectangle(shape):\n",
    "    def area(self,length,height):\n",
    "        self.length = length\n",
    "        self.height = height\n",
    "        return length*height"
   ]
  },
  {
   "cell_type": "code",
   "execution_count": 205,
   "id": "db5578cb",
   "metadata": {},
   "outputs": [],
   "source": [
    "obj = rectangle()"
   ]
  },
  {
   "cell_type": "code",
   "execution_count": 207,
   "id": "fd93fd54",
   "metadata": {},
   "outputs": [
    {
     "data": {
      "text/plain": [
       "6"
      ]
     },
     "execution_count": 207,
     "metadata": {},
     "output_type": "execute_result"
    }
   ],
   "source": [
    "obj.area(3,2)"
   ]
  },
  {
   "cell_type": "code",
   "execution_count": null,
   "id": "fcc4ba07",
   "metadata": {},
   "outputs": [],
   "source": []
  },
  {
   "cell_type": "code",
   "execution_count": null,
   "id": "ef37c5d8",
   "metadata": {},
   "outputs": [],
   "source": []
  }
 ],
 "metadata": {
  "kernelspec": {
   "display_name": "Python 3 (ipykernel)",
   "language": "python",
   "name": "python3"
  },
  "language_info": {
   "codemirror_mode": {
    "name": "ipython",
    "version": 3
   },
   "file_extension": ".py",
   "mimetype": "text/x-python",
   "name": "python",
   "nbconvert_exporter": "python",
   "pygments_lexer": "ipython3",
   "version": "3.10.9"
  }
 },
 "nbformat": 4,
 "nbformat_minor": 5
}
